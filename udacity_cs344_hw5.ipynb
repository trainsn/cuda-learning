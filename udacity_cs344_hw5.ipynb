{
  "nbformat": 4,
  "nbformat_minor": 0,
  "metadata": {
    "colab": {
      "name": "“udacity-cs344-hw5”的副本",
      "provenance": [],
      "collapsed_sections": [],
      "include_colab_link": true
    },
    "kernelspec": {
      "name": "python3",
      "display_name": "Python 3"
    },
    "accelerator": "GPU"
  },
  "cells": [
    {
      "cell_type": "markdown",
      "metadata": {
        "id": "view-in-github",
        "colab_type": "text"
      },
      "source": [
        "<a href=\"https://colab.research.google.com/github/trainsn/cuda-learning/blob/master/udacity_cs344_hw5.ipynb\" target=\"_parent\"><img src=\"https://colab.research.google.com/assets/colab-badge.svg\" alt=\"Open In Colab\"/></a>"
      ]
    },
    {
      "cell_type": "code",
      "metadata": {
        "id": "hse6gSyUS5ka",
        "colab_type": "code",
        "outputId": "41763848-5fe0-45ac-d00f-e8c44f8b259e",
        "colab": {
          "base_uri": "https://localhost:8080/",
          "height": 790
        }
      },
      "source": [
        "# Homework 5 for Udacity CS344 Course, Intro to Parallel Programming\n",
        "# clone the code repo,\n",
        "!git clone https://github.com/depctg/udacity-cs344-colab\n",
        "!pip install git+git://github.com/depctg/nvcc4jupyter.git\n",
        "\n",
        "# load cuda plugin\n",
        "%config NVCCPluginV2.static_dir = True\n",
        "%config NVCCPluginV2.relative_dir = \"udacity-cs344-colab/src/HW5\"\n",
        "%load_ext nvcc_plugin\n",
        "\n",
        "# change to work directory, generate makefiles\n",
        "!mkdir udacity-cs344-colab/build\n",
        "%cd udacity-cs344-colab/build\n",
        "!cmake ../src"
      ],
      "execution_count": 0,
      "outputs": [
        {
          "output_type": "stream",
          "text": [
            "Cloning into 'udacity-cs344-colab'...\n",
            "remote: Enumerating objects: 144, done.\u001b[K\n",
            "remote: Total 144 (delta 0), reused 0 (delta 0), pack-reused 144\u001b[K\n",
            "Receiving objects: 100% (144/144), 3.93 MiB | 6.05 MiB/s, done.\n",
            "Resolving deltas: 100% (43/43), done.\n",
            "Collecting git+git://github.com/depctg/nvcc4jupyter.git\n",
            "  Cloning git://github.com/depctg/nvcc4jupyter.git to /tmp/pip-req-build-cgd4s54i\n",
            "  Running command git clone -q git://github.com/depctg/nvcc4jupyter.git /tmp/pip-req-build-cgd4s54i\n",
            "Building wheels for collected packages: NVCCPlugin\n",
            "  Building wheel for NVCCPlugin (setup.py) ... \u001b[?25l\u001b[?25hdone\n",
            "  Created wheel for NVCCPlugin: filename=NVCCPlugin-0.0.2-cp36-none-any.whl size=4334 sha256=f70fc4154176f513c6ffc992301887d7e6c22cc69578f6014f0b9562dc4423f9\n",
            "  Stored in directory: /tmp/pip-ephem-wheel-cache-rjeom66q/wheels/1e/43/2d/099cad2b9b02dfa88573f50a22735d8a0b2ba69bf82167b81c\n",
            "Successfully built NVCCPlugin\n",
            "Installing collected packages: NVCCPlugin\n",
            "Successfully installed NVCCPlugin-0.0.2\n",
            "Set up cuda environment at /content/udacity-cs344-colab/src/HW5\n",
            "Default out bin result.out\n",
            "/content/udacity-cs344-colab/build\n",
            "-- The C compiler identification is GNU 7.5.0\n",
            "-- The CXX compiler identification is GNU 7.5.0\n",
            "-- Check for working C compiler: /usr/bin/cc\n",
            "-- Check for working C compiler: /usr/bin/cc -- works\n",
            "-- Detecting C compiler ABI info\n",
            "-- Detecting C compiler ABI info - done\n",
            "-- Detecting C compile features\n",
            "-- Detecting C compile features - done\n",
            "-- Check for working CXX compiler: /usr/bin/c++\n",
            "-- Check for working CXX compiler: /usr/bin/c++ -- works\n",
            "-- Detecting CXX compiler ABI info\n",
            "-- Detecting CXX compiler ABI info - done\n",
            "-- Detecting CXX compile features\n",
            "-- Detecting CXX compile features - done\n",
            "-- Found OpenCV: /usr (found version \"3.2.0\") \n",
            "-- Looking for pthread.h\n",
            "-- Looking for pthread.h - found\n",
            "-- Looking for pthread_create\n",
            "-- Looking for pthread_create - not found\n",
            "-- Looking for pthread_create in pthreads\n",
            "-- Looking for pthread_create in pthreads - not found\n",
            "-- Looking for pthread_create in pthread\n",
            "-- Looking for pthread_create in pthread - found\n",
            "-- Found Threads: TRUE  \n",
            "-- Found CUDA: /usr/local/cuda (found version \"10.1\") \n",
            "-- Configuring done\n",
            "-- Generating done\n",
            "-- Build files have been written to: /content/udacity-cs344-colab/build\n"
          ],
          "name": "stdout"
        }
      ]
    },
    {
      "cell_type": "code",
      "metadata": {
        "id": "3vA0JP15TORh",
        "colab_type": "code",
        "outputId": "8a541cb3-dd12-4056-fce6-bf15bd61e6b6",
        "colab": {
          "base_uri": "https://localhost:8080/",
          "height": 34
        }
      },
      "source": [
        "%%cuda --name student.cu\n",
        "\n",
        "/* Udacity HW5\n",
        "   Histogramming for Speed\n",
        "   The goal of this assignment is compute a histogram\n",
        "   as fast as possible.  We have simplified the problem as much as\n",
        "   possible to allow you to focus solely on the histogramming algorithm.\n",
        "   The input values that you need to histogram are already the exact\n",
        "   bins that need to be updated.  This is unlike in HW3 where you needed\n",
        "   to compute the range of the data and then do:\n",
        "   bin = (val - valMin) / valRange to determine the bin.\n",
        "   Here the bin is just:\n",
        "   bin = val\n",
        "   so the serial histogram calculation looks like:\n",
        "   for (i = 0; i < numElems; ++i)\n",
        "     histo[val[i]]++;\n",
        "   That's it!  Your job is to make it run as fast as possible!\n",
        "   The values are normally distributed - you may take\n",
        "   advantage of this fact in your implementation.\n",
        "*/\n",
        "\n",
        "\n",
        "#include \"utils.h\"\n",
        "#include \"device_launch_parameters.h\"\n",
        "#include <thrust/host_vector.h>\n",
        "\n",
        "const int N_THREADS =  1024;\n",
        "\n",
        "\n",
        "\n",
        "__global__\n",
        "void naiveHisto(const unsigned int* const vals, //INPUT\n",
        "\tunsigned int* const histo,      //OUPUT\n",
        "\tint numVals)\n",
        "{\n",
        "\tint tid = threadIdx.x;\n",
        "\tint global_id = tid + blockDim.x*blockIdx.x;\n",
        "\tif (global_id >= numVals) return;\n",
        "\tatomicAdd(&(histo[vals[global_id]]), 1);\n",
        "}\n",
        "\n",
        "__global__\n",
        "void perBlockHisto(const unsigned int* const vals, //INPUT\n",
        "\tunsigned int* const histo,      //OUPUT\n",
        "\tint numVals,int numBins) {\n",
        "\n",
        "\textern __shared__ unsigned int sharedHisto[]; //size as original histo\n",
        "\n",
        "\t//coalesced initialization: multiple blocks could manage the same shared histo\n",
        "\tfor (int i = threadIdx.x; i < numBins; i += blockDim.x) {\n",
        "\t\tsharedHisto[i] = 0;\n",
        "\t}\n",
        "\n",
        "\t__syncthreads();\n",
        "\n",
        "\tint globalid = threadIdx.x + blockIdx.x*blockDim.x;\n",
        "\tatomicAdd(&sharedHisto[vals[globalid]], 1);\n",
        "\t\n",
        "\t__syncthreads();\n",
        "\n",
        "\tfor (int i = threadIdx.x; i < numBins; i += blockDim.x) {\n",
        "\t\tatomicAdd(&histo[i], sharedHisto[i]);\n",
        "\t}\n",
        "\n",
        "\n",
        "}\n",
        "\n",
        "\n",
        "\n",
        "void computeHistogram(const unsigned int* const d_vals, //INPUT\n",
        "                      unsigned int* const d_histo,      //OUTPUT\n",
        "                      const unsigned int numBins,\n",
        "                      const unsigned int numElems)\n",
        "{\n",
        "  //TODO Launch the yourHisto kernel\n",
        "\n",
        "\tint blocks = ceil(numElems / N_THREADS);\n",
        "\n",
        "\t//naiveHisto <<< blocks, N_THREADS >>> (d_vals, d_histo, numElems);\n",
        "\n",
        "\n",
        "\t//more than 7x speedup over naiveHisto\n",
        "\tperBlockHisto << <blocks, N_THREADS, sizeof(unsigned int)*numBins >> > (d_vals, d_histo, numElems, numBins);\n",
        "\n",
        "  //if you want to use/launch more than one kernel,\n",
        "  //feel free\n",
        "\n",
        "  cudaDeviceSynchronize(); checkCudaErrors(cudaGetLastError());\n",
        "}"
      ],
      "execution_count": 0,
      "outputs": [
        {
          "output_type": "execute_result",
          "data": {
            "text/plain": [
              "'File written in /content/udacity-cs344-colab/src/HW5/student.cu'"
            ]
          },
          "metadata": {
            "tags": []
          },
          "execution_count": 7
        }
      ]
    },
    {
      "cell_type": "code",
      "metadata": {
        "id": "sSAnpiE2nL1T",
        "colab_type": "code",
        "outputId": "7d722adb-2a64-46e8-d40a-c29e6778cd75",
        "colab": {
          "base_uri": "https://localhost:8080/",
          "height": 151
        }
      },
      "source": [
        "# make the cuda project\n",
        "!make HW5\n",
        "print(\"\\n====== RESULT OF HW5 =======\\n\")\n",
        "!bin/HW5"
      ],
      "execution_count": 0,
      "outputs": [
        {
          "output_type": "stream",
          "text": [
            "[ 25%] \u001b[34m\u001b[1mBuilding NVCC (Device) object HW5/CMakeFiles/HW5.dir/HW5_generated_student.cu.o\u001b[0m\n",
            "[ 50%] \u001b[32m\u001b[1mLinking CXX executable ../bin/HW5\u001b[0m\n",
            "[100%] Built target HW5\n",
            "\n",
            "====== RESULT OF HW5 =======\n",
            "\n",
            "489\n",
            "Your code ran in: 6.133504 msecs.\n"
          ],
          "name": "stdout"
        }
      ]
    }
  ]
}